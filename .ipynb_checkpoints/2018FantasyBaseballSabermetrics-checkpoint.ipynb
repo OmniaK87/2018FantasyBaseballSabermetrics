{
 "cells": [
  {
   "cell_type": "markdown",
   "metadata": {},
   "source": [
    "# 2018 Fantasy Baseball Sabermetrics\n",
    "***\n",
    "\n",
    "**Author:** Jake Mitchell\n",
    "\n",
    "***\n",
    " \n",
    "**2018 Retrosheet schedules:** The information used here was obtained free of charge from and is copyrighted by Retrosheet.  Interested parties may contact Retrosheet at 20 Sunset Rd., Newark, DE 19711."
   ]
  },
  {
   "cell_type": "code",
   "execution_count": 99,
   "metadata": {
    "collapsed": true
   },
   "outputs": [],
   "source": [
    "import pandas as pd"
   ]
  },
  {
   "cell_type": "code",
   "execution_count": 100,
   "metadata": {
    "collapsed": true
   },
   "outputs": [],
   "source": [
    "schedulePath = \"data/2018SKED.txt\""
   ]
  },
  {
   "cell_type": "code",
   "execution_count": 103,
   "metadata": {},
   "outputs": [],
   "source": [
    "class Schedule:\n",
    "    def __init__(self, data_source):\n",
    "        \"\"\"\n",
    "        Initialize the Schedule \n",
    "        \n",
    "        data_source = path to the schedule txt file \n",
    "        \"\"\"\n",
    "        self.dfSch = pd.read_table(data_source, sep=',', names=[\"date\", \"game_num\", \"day_of_week\", \"visit_team\", \"visit_league\", \"visit_season_game_num\",\"home_team\", \"home_league\", \"home_season_game_num\", \"time_of_day\", \"cancel_indicator\", \"date_of_makeup\"])\n",
    "        \n",
    "    def get_teams(self):\n",
    "        return self.dfSch.home_team.unique()\n",
    "        \n",
    "    def get_count_of_games_by_date(self, team, date=\"20181001\", toPrint=False):\n",
    "        teamSch = self.dfSch[((dfSch.home_team == team) | (dfSch.visit_team == team)) & (pd.to_numeric(dfSch.date) < int(date))]\n",
    "        if toPrint:\n",
    "            print(team + \": \" + str(teamSch.shape[0]))\n",
    "        return teamSch.shape[0]"
   ]
  },
  {
   "cell_type": "markdown",
   "metadata": {},
   "source": [
    "***Getting the number of games that each team is expected to have by a given date***"
   ]
  },
  {
   "cell_type": "code",
   "execution_count": 104,
   "metadata": {},
   "outputs": [
    {
     "name": "stdout",
     "output_type": "stream",
     "text": [
      "MIA: 28\n",
      "DET: 29\n",
      "NYN: 28\n",
      "BAL: 30\n",
      "TEX: 30\n",
      "TOR: 30\n",
      "TBA: 28\n",
      "OAK: 28\n",
      "SDN: 30\n",
      "ATL: 29\n",
      "CIN: 30\n",
      "KCA: 29\n",
      "LAN: 28\n",
      "SEA: 28\n",
      "ARI: 28\n",
      "PIT: 29\n",
      "NYA: 30\n",
      "MIL: 30\n",
      "HOU: 30\n",
      "ANA: 29\n",
      "SFN: 29\n",
      "WAS: 29\n",
      "BOS: 29\n",
      "PHI: 29\n",
      "CHA: 29\n",
      "MIN: 28\n",
      "SLN: 28\n",
      "COL: 30\n",
      "CLE: 29\n",
      "CHN: 29\n"
     ]
    }
   ],
   "source": [
    "byDate = \"20180501\"\n",
    "\n",
    "schedule = Schedule(schedulePath)\n",
    "for teamName in schedule.get_teams():\n",
    "    schedule.get_count_of_games_by_date(teamName, byDate, toPrint=True)"
   ]
  },
  {
   "cell_type": "code",
   "execution_count": null,
   "metadata": {
    "collapsed": true
   },
   "outputs": [],
   "source": []
  },
  {
   "cell_type": "code",
   "execution_count": null,
   "metadata": {
    "collapsed": true
   },
   "outputs": [],
   "source": []
  }
 ],
 "metadata": {
  "kernelspec": {
   "display_name": "Python 3",
   "language": "python",
   "name": "python3"
  },
  "language_info": {
   "codemirror_mode": {
    "name": "ipython",
    "version": 3
   },
   "file_extension": ".py",
   "mimetype": "text/x-python",
   "name": "python",
   "nbconvert_exporter": "python",
   "pygments_lexer": "ipython3",
   "version": "3.6.3"
  }
 },
 "nbformat": 4,
 "nbformat_minor": 2
}
